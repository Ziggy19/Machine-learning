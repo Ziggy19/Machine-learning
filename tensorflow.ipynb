{
 "cells": [
  {
   "cell_type": "markdown",
   "id": "1b088e8f",
   "metadata": {},
   "source": [
    "Create tensorflow environment – \n",
    "1. \t\tconda create -n tensorflow_env tensorflow\n",
    "1.\tactivate tensorflow_env instead of base \n",
    "1.\t\tactivate the tensorflow env\n",
    "1.\tinstall keras –\n",
    "1.\tpip install keras==2.3.1\n",
    "1.\tIn tensorflow environment\n",
    "1. pip install numpy,pandas,scipy,seaborn,matplotlib ( all pkg in tensorflow_env)\n",
    "1.\tOpen anaconda navigator home – click on base application to tensorflow_env – jupyter & spyder setting button – update to spyder 4.1.3 & jupyter 6.0.3\n",
    "1. \tInstall pytorch – \n",
    "1. \tpip install torch==1.5.1+cpu torchvision==0.6.1+cpu -f https://download.pytorch.org/whl/torch_stable.html\n",
    "1.\tInstall openCV –\n",
    "1.\tpip install opencv-python\n",
    "1.\tIf you want to come to base then type (activate base )\n",
    "1.\tIf you want to come to tensorflow_env (activate tensorflow_env)\n",
    "1.\tactivate tensorflow_env"
   ]
  },
  {
   "cell_type": "code",
   "execution_count": 6,
   "id": "60d063f5",
   "metadata": {},
   "outputs": [
    {
     "data": {
      "text/plain": [
       "'3.9.12 (main, Apr  4 2022, 05:22:27) [MSC v.1916 64 bit (AMD64)]'"
      ]
     },
     "execution_count": 6,
     "metadata": {},
     "output_type": "execute_result"
    }
   ],
   "source": [
    "import sys\n",
    "sys.version"
   ]
  },
  {
   "cell_type": "code",
   "execution_count": 7,
   "id": "0775443d",
   "metadata": {},
   "outputs": [],
   "source": [
    "import numpy as np"
   ]
  },
  {
   "cell_type": "code",
   "execution_count": 4,
   "id": "c946d5a6",
   "metadata": {},
   "outputs": [],
   "source": [
    "import tensorflow as tf\n"
   ]
  },
  {
   "cell_type": "code",
   "execution_count": null,
   "id": "2110d76f",
   "metadata": {},
   "outputs": [],
   "source": []
  }
 ],
 "metadata": {
  "kernelspec": {
   "display_name": "Python 3 (ipykernel)",
   "language": "python",
   "name": "python3"
  },
  "language_info": {
   "codemirror_mode": {
    "name": "ipython",
    "version": 3
   },
   "file_extension": ".py",
   "mimetype": "text/x-python",
   "name": "python",
   "nbconvert_exporter": "python",
   "pygments_lexer": "ipython3",
   "version": "3.9.12"
  }
 },
 "nbformat": 4,
 "nbformat_minor": 5
}
