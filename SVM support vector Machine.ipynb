{
 "cells": [
  {
   "cell_type": "markdown",
   "id": "95c62577",
   "metadata": {},
   "source": [
    "# Support Vector Machine(SVM)"
   ]
  },
  {
   "cell_type": "markdown",
   "id": "ffe9a18e",
   "metadata": {},
   "source": [
    "Support Vector Machine or SVM is one of the most popular Supervised Learning algorithms, which is used for Classification as well as Regression problems"
   ]
  },
  {
   "cell_type": "markdown",
   "id": "95ab66c8",
   "metadata": {},
   "source": [
    "The goal of the SVM algorithm is to create the best line or decision boundary that can segregate n-dimensional space into classes so that we can easily put the new data point in the correct category in the future. This best decision boundary is called a hyperplane."
   ]
  },
  {
   "cell_type": "markdown",
   "id": "dbcbb3fb",
   "metadata": {},
   "source": [
    "# SVM stands for Support Vector Machine\n",
    "This is Supervised Learning Algorithm, it can solve both regression and classification problems. SVR(support vector Regressor).\n",
    "SVM can be of two types:\n",
    "1. Linear SVM: Linear SVM is used for linearly separable data, which means if a dataset can be classified into two classes by using a single straight line, then such data is termed as linearly separable data, and classifier is used called as Linear SVM classifier.\n",
    "1. Non-linear SVM: Non-Linear SVM is used for non-linearly separated data, which means if a dataset cannot be classified by using a straight line, then such data is termed as non-linear data and classifier used is called as Non-linear SVM classifier.\n"
   ]
  },
  {
   "cell_type": "markdown",
   "id": "35f9a159",
   "metadata": {},
   "source": [
    "# d\n",
    "In this diagram we have a classification problem where we have two groups a circle and square. Here we are making a hyperplane between them, when ever we are making a hyperplane, we make sure that we need to consider 2 parallel lines with some distance in negative and positive side of hyperplane, so that it can easily separate both classification points. while making parallel line we make sure that the positive side line should touch at least one nearest point and negative side should touch at least one nearest negative point.\n",
    "When we compute both distance hyperplane to negative parallel line(d-) and hyperplane to positive parallel line(d+)\n",
    "1. Margin= (d+) + (d-)\n"
   ]
  },
  {
   "cell_type": "markdown",
   "id": "1a809696",
   "metadata": {},
   "source": [
    "Our aim is to get generalized model.\n",
    "Linearly separable means we can separate by just draw a straight line. \n",
    "Support vector --- this is a nearest point which passes through the marginal plans.\n",
    "SVM kernels- it is a way by which we can convert low dimension to high dimension. 2D to 3D. so that we can easily classify.\n",
    "For non linear separable its not possible to make hyperplane for this normally we use SVM kernels where we convert ow dimension to high dimensions.\n"
   ]
  },
  {
   "cell_type": "markdown",
   "id": "d1dabe87",
   "metadata": {},
   "source": [
    "# SVM Kernel\n",
    "For non-linear separable it’s not possible to make hyperplane for this normally we use SVM kernels where we convert ow dimension to high dimensions\n",
    "So, to separate these data points, we need to add one more dimension. For linear data, we have used two dimensions x and y, so for non-linear data, we will add a third-dimension z. It can be calculated as:\n"
   ]
  },
  {
   "cell_type": "markdown",
   "id": "d129eba5",
   "metadata": {},
   "source": [
    "# We have two types of margins: -\n",
    "1.\tSoft margin \n",
    "2.\tHard margin\n",
    "When the data is linearly separable, and we don’t want to have any misclassifications, we use SVM with a hard margin. However, when a linear boundary is not feasible, or we want to allow some misclassifications in the hope of achieving better generality, we can opt for a soft margin for our classifier.\n"
   ]
  },
  {
   "cell_type": "code",
   "execution_count": null,
   "id": "9d751dc7",
   "metadata": {},
   "outputs": [],
   "source": []
  }
 ],
 "metadata": {
  "kernelspec": {
   "display_name": "Python 3 (ipykernel)",
   "language": "python",
   "name": "python3"
  },
  "language_info": {
   "codemirror_mode": {
    "name": "ipython",
    "version": 3
   },
   "file_extension": ".py",
   "mimetype": "text/x-python",
   "name": "python",
   "nbconvert_exporter": "python",
   "pygments_lexer": "ipython3",
   "version": "3.9.7"
  }
 },
 "nbformat": 4,
 "nbformat_minor": 5
}
